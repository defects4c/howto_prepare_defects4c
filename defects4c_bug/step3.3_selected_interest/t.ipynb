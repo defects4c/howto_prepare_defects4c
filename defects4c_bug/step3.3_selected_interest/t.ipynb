{
 "cells": [
  {
   "cell_type": "code",
   "execution_count": 1,
   "id": "5201c725",
   "metadata": {},
   "outputs": [],
   "source": [
    "import os \n",
    "import base64 \n",
    "\n",
    "build_fn= lambda x :\"/data3/code_dst2/api_github_dirs/online_extracted/{}.json\".format(  base64.b64encode( x.encode(\"utf-8\" ) ).decode(\"utf-8\") )\n",
    "\n",
    "\n",
    "p_dir=\"/home/wj_cuda113/wj_code/dl_defects4c/howto_prepare_defects4c/defects4c_bug/step3.1_step3.2\"\n",
    "\n",
    "p_f = os.path.join(p_dir, \"t.list\" )\n",
    "with open(p_f) as fr :\n",
    "    data_lis = [ ( build_fn(\"\\\"\"+x.strip()+\"\\\"\"), x.strip() ) for x in fr.readlines()]\n",
    "\n",
    "# with open(os.path.join(p_dir, \"extra_add_76K.jsonl\") ,\"w\") as fw:\n",
    "#     data_lis = [ str(x) for x in data_lis ]\n",
    "#     fw.write(\"\\n\".join( data_lis ))\n",
    "\n",
    "    "
   ]
  },
  {
   "cell_type": "code",
   "execution_count": 2,
   "id": "036858de",
   "metadata": {},
   "outputs": [
    {
     "name": "stdout",
     "output_type": "stream",
     "text": [
      "v1 13365\n",
      "v2 132286\n"
     ]
    }
   ],
   "source": [
    "from glob2 import glob \n",
    "\n",
    "def load_one_f(f):\n",
    "    with open(f) as fr:\n",
    "        lines = [ x for  x in  fr.readlines() if len(x.strip())>0 ] \n",
    "    return lines \n",
    "\n",
    "\n",
    "p2_list= glob(  \"/tmp/how_many_githu_x_filter_chunk_*.jsonl\")\n",
    "\n",
    "linesx = []\n",
    "for one_o in p2_list :\n",
    "    linesx+= load_one_f(  f=one_o )\n",
    "\n",
    "linesx = list(set(linesx))\n",
    "print (\"v1\", len(linesx) )\n",
    "\n",
    "linesx = [eval(x) for x in linesx]\n",
    "\n",
    "p1_list= glob(  \"/tmp/how_many_githu_no_msg_filter_chunk_*.jsonl\")\n",
    "\n",
    "\n",
    "linesy = []\n",
    "for one_o in p1_list :\n",
    "    linesy+= load_one_f(  f=one_o )\n",
    "\n",
    "linesy = list(set(linesy))\n",
    "linesy = [eval(x) for x in linesy]\n",
    "print (\"v2\", len(linesy) )\n",
    "\n",
    "\n",
    "\n"
   ]
  },
  {
   "cell_type": "code",
   "execution_count": 12,
   "id": "15c3e6e0",
   "metadata": {},
   "outputs": [
    {
     "name": "stdout",
     "output_type": "stream",
     "text": [
      "final.list 83999\n",
      "final.list.set 76804\n"
     ]
    }
   ],
   "source": [
    "final_list = data_lis+ linesx + linesy \n",
    "final_list = final_list[:84000-1 ]\n",
    "\n",
    "print (\"final.list\" , len(final_list ) )\n",
    "\n",
    "final_list = list(set( final_list )) \n",
    "\n",
    "print (\"final.list.set\" , len(final_list ) )\n",
    "\n",
    "\n",
    "\n",
    "with open( os.path.join(p_dir, \"full_76K_step3.1-3.2_filtering.txt\"), \"w\" ) as fw :\n",
    "    fw.write( \"\\n\".join([ str(x) for x in final_list ]))\n"
   ]
  },
  {
   "cell_type": "code",
   "execution_count": 4,
   "id": "bbf82695",
   "metadata": {},
   "outputs": [
    {
     "name": "stdout",
     "output_type": "stream",
     "text": [
      "248 len.d1\n",
      "248 len.d1_str\n",
      "3785 len.d2\n"
     ]
    }
   ],
   "source": [
    "import json\n",
    "\n",
    "\n",
    "p1=\"extrat2.jsonl\"\n",
    "p2= \"how_many_x_filter_step2_v2.jsonl\"\n",
    "\n",
    "\n",
    "\n",
    "\n",
    "d1= [json.loads(x) for x in open(p1).readlines()]\n",
    "print ( len(d1), \"len.d1\" )\n",
    "d1_str = [ str(x) for x in d1 ]\n",
    "d1_str = list(set(d1_str))\n",
    "print ( len(d1_str), \"len.d1_str\" )\n",
    "\n",
    "\n",
    "d2= open(p2).readlines()\n",
    "d2 = [ eval(x) for x in d2 if len(x.strip())>0 ]\n",
    "d2 = list(set(d2))\n",
    "\n",
    "\n",
    "print ( len(d2), \"len.d2\" )\n"
   ]
  },
  {
   "cell_type": "code",
   "execution_count": 5,
   "id": "e50bb17f",
   "metadata": {},
   "outputs": [],
   "source": [
    "\n",
    "d3 = d1+ d2 \n",
    "\n",
    "d3 = d3 [:3785]\n",
    "\n",
    "with open(\"unittest_is_ok_demanding_human_label.jsonl\", \"w\") as fw:\n",
    "    fw.write(\"\\n\".join( [json.dumps(x) for x in d3 ]))\n",
    "    \n",
    "    "
   ]
  },
  {
   "cell_type": "code",
   "execution_count": null,
   "id": "acecc3c3",
   "metadata": {},
   "outputs": [],
   "source": []
  }
 ],
 "metadata": {
  "kernelspec": {
   "display_name": "Python 3 (ipykernel)",
   "language": "python",
   "name": "python3"
  },
  "language_info": {
   "codemirror_mode": {
    "name": "ipython",
    "version": 3
   },
   "file_extension": ".py",
   "mimetype": "text/x-python",
   "name": "python",
   "nbconvert_exporter": "python",
   "pygments_lexer": "ipython3",
   "version": "3.9.12"
  }
 },
 "nbformat": 4,
 "nbformat_minor": 5
}
